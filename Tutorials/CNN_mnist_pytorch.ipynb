{
  "cells": [
    {
      "cell_type": "markdown",
      "metadata": {
        "id": "usbzsfhwK1_h"
      },
      "source": [
        "# Step-by-step MNIST Digits Classification - Simple Fully Connected Neural Network for MNIST Classification - PyTorch\n",
        "\n",
        "In this example, we will see how to implement a simple fully connected neural network using PyTorch for classifying the digits in the MNIST dataset.\n",
        "\n",
        "1. Set your data loader, explore your data\n",
        "\n",
        "2. Define your model\n",
        "\n",
        "3. Train your model with the appropriate loss function, optmizer, learning rate, batch_size, checkpoints, etc.\n",
        "\n",
        "    3.1 If you are satisfied with the train and validation performance go to the next step\n",
        "\n",
        "    3.2 If you are not satisfied with the train and validation performance go back to step 5\n",
        "\n",
        "4. Test your model on the test and extract relevant metrics"
      ]
    },
    {
      "cell_type": "code",
      "execution_count": 1,
      "metadata": {
        "id": "awzlS2JLK1_j",
        "outputId": "33c78a48-bed2-45be-a50b-d1b90f43adaf",
        "colab": {
          "base_uri": "https://localhost:8080/"
        }
      },
      "outputs": [
        {
          "output_type": "stream",
          "name": "stdout",
          "text": [
            "cuda:0\n"
          ]
        }
      ],
      "source": [
        "import torch # pytorch main library\n",
        "import torchvision # computer vision utilities\n",
        "import torchvision.transforms as transforms # transforms used in the pre-processing of the data\n",
        "\n",
        "import torch.nn as nn\n",
        "import torch.nn.functional as F\n",
        "\n",
        "import matplotlib.pyplot as plt\n",
        "import numpy as np\n",
        "\n",
        "import torch.optim as optim\n",
        "\n",
        "# Check if GPU is available\n",
        "device = torch.device('cuda:0' if torch.cuda.is_available() else 'cpu')\n",
        "\n",
        "# Assuming that we are on a CUDA machine, this should print a CUDA device:\n",
        "print(device)"
      ]
    },
    {
      "cell_type": "code",
      "execution_count": 2,
      "metadata": {
        "id": "ZcWLunWLK1_j"
      },
      "outputs": [],
      "source": [
        "# Function to get thge statistics of a dataset\n",
        "def get_dataset_stats(data_loader):\n",
        "    mean = 0.\n",
        "    std = 0.\n",
        "    nb_samples = 0.\n",
        "    for data in data_loader:\n",
        "        data = data[0] # Get the images to compute the stgatistics\n",
        "        batch_samples = data.size(0)\n",
        "        data = data.view(batch_samples, data.size(1), -1)\n",
        "        mean += data.mean(2).sum(0)\n",
        "        std += data.std(2).sum(0)\n",
        "        nb_samples += batch_samples\n",
        "\n",
        "    mean /= nb_samples\n",
        "    std /= nb_samples\n",
        "    return mean,std\n",
        "\n",
        "# functions to show an image\n",
        "def imshow(img,stats):\n",
        "    img = img *stats[1] + stats[0]     # unnormalize\n",
        "    npimg = img.numpy() # convert the tensor back to numpy\n",
        "    plt.imshow(np.transpose(npimg, (1, 2, 0)))\n",
        "    plt.show()"
      ]
    },
    {
      "cell_type": "code",
      "execution_count": 3,
      "metadata": {
        "id": "kcnvOL0LK1_k",
        "outputId": "a14e467e-3f87-4df7-f476-3a76b7e46253",
        "colab": {
          "base_uri": "https://localhost:8080/"
        }
      },
      "outputs": [
        {
          "output_type": "stream",
          "name": "stdout",
          "text": [
            "Downloading http://yann.lecun.com/exdb/mnist/train-images-idx3-ubyte.gz\n",
            "Failed to download (trying next):\n",
            "HTTP Error 404: Not Found\n",
            "\n",
            "Downloading https://ossci-datasets.s3.amazonaws.com/mnist/train-images-idx3-ubyte.gz\n",
            "Downloading https://ossci-datasets.s3.amazonaws.com/mnist/train-images-idx3-ubyte.gz to ./data/MNIST/raw/train-images-idx3-ubyte.gz\n"
          ]
        },
        {
          "output_type": "stream",
          "name": "stderr",
          "text": [
            "100%|██████████| 9.91M/9.91M [00:02<00:00, 4.55MB/s]\n"
          ]
        },
        {
          "output_type": "stream",
          "name": "stdout",
          "text": [
            "Extracting ./data/MNIST/raw/train-images-idx3-ubyte.gz to ./data/MNIST/raw\n",
            "\n",
            "Downloading http://yann.lecun.com/exdb/mnist/train-labels-idx1-ubyte.gz\n",
            "Failed to download (trying next):\n",
            "HTTP Error 404: Not Found\n",
            "\n",
            "Downloading https://ossci-datasets.s3.amazonaws.com/mnist/train-labels-idx1-ubyte.gz\n",
            "Downloading https://ossci-datasets.s3.amazonaws.com/mnist/train-labels-idx1-ubyte.gz to ./data/MNIST/raw/train-labels-idx1-ubyte.gz\n"
          ]
        },
        {
          "output_type": "stream",
          "name": "stderr",
          "text": [
            "100%|██████████| 28.9k/28.9k [00:00<00:00, 135kB/s]\n"
          ]
        },
        {
          "output_type": "stream",
          "name": "stdout",
          "text": [
            "Extracting ./data/MNIST/raw/train-labels-idx1-ubyte.gz to ./data/MNIST/raw\n",
            "\n",
            "Downloading http://yann.lecun.com/exdb/mnist/t10k-images-idx3-ubyte.gz\n",
            "Failed to download (trying next):\n",
            "HTTP Error 404: Not Found\n",
            "\n",
            "Downloading https://ossci-datasets.s3.amazonaws.com/mnist/t10k-images-idx3-ubyte.gz\n",
            "Downloading https://ossci-datasets.s3.amazonaws.com/mnist/t10k-images-idx3-ubyte.gz to ./data/MNIST/raw/t10k-images-idx3-ubyte.gz\n"
          ]
        },
        {
          "output_type": "stream",
          "name": "stderr",
          "text": [
            "100%|██████████| 1.65M/1.65M [00:01<00:00, 1.08MB/s]\n"
          ]
        },
        {
          "output_type": "stream",
          "name": "stdout",
          "text": [
            "Extracting ./data/MNIST/raw/t10k-images-idx3-ubyte.gz to ./data/MNIST/raw\n",
            "\n",
            "Downloading http://yann.lecun.com/exdb/mnist/t10k-labels-idx1-ubyte.gz\n",
            "Failed to download (trying next):\n",
            "HTTP Error 404: Not Found\n",
            "\n",
            "Downloading https://ossci-datasets.s3.amazonaws.com/mnist/t10k-labels-idx1-ubyte.gz\n",
            "Downloading https://ossci-datasets.s3.amazonaws.com/mnist/t10k-labels-idx1-ubyte.gz to ./data/MNIST/raw/t10k-labels-idx1-ubyte.gz\n"
          ]
        },
        {
          "output_type": "stream",
          "name": "stderr",
          "text": [
            "100%|██████████| 4.54k/4.54k [00:00<00:00, 11.1MB/s]"
          ]
        },
        {
          "output_type": "stream",
          "name": "stdout",
          "text": [
            "Extracting ./data/MNIST/raw/t10k-labels-idx1-ubyte.gz to ./data/MNIST/raw\n",
            "\n"
          ]
        },
        {
          "output_type": "stream",
          "name": "stderr",
          "text": [
            "\n"
          ]
        },
        {
          "output_type": "stream",
          "name": "stdout",
          "text": [
            "Train stats: (tensor([0.1307]), tensor([0.3016]))\n"
          ]
        }
      ],
      "source": [
        "batch_size = 256\n",
        "\n",
        "transform = transforms.Compose(\n",
        "    [transforms.ToTensor()]) # Convert the data to a PyTorch tensor\n",
        "\n",
        "# Load develpoment dataset\n",
        "devset = torchvision.datasets.MNIST(root='./data', train=True,\n",
        "                                        download=True, transform = transform)\n",
        "\n",
        "train_set_size = int(len(devset) * 0.8)\n",
        "val_set_size = len(devset) - train_set_size\n",
        "\n",
        "# Split the development set into train and validation\n",
        "trainset, valset = torch.utils.data.random_split(devset, [train_set_size, val_set_size], generator=torch.Generator().manual_seed(42))\n",
        "\n",
        "\n",
        "# Get the data loader for the train set\n",
        "trainloader = torch.utils.data.DataLoader(trainset, batch_size=batch_size,\n",
        "                                          shuffle=True, num_workers=2)\n",
        "\n",
        "# Comopute the statistics of the train set\n",
        "stats = get_dataset_stats(trainloader)\n",
        "print(\"Train stats:\", stats)\n",
        "# Pre-processing transforms\n",
        "transform = transforms.Compose(\n",
        "    [transforms.ToTensor(),\n",
        "     transforms.Normalize((stats[0]), (stats[1]))])\n",
        "\n",
        "\n",
        "# Load the development set again using the proper pre-processing transforms\n",
        "devset = torchvision.datasets.MNIST(root='./data', train=True,\n",
        "                                        download=True, transform = transform)\n",
        "\n",
        "# Split the development set into train and validation\n",
        "trainset, valset = torch.utils.data.random_split(devset, [train_set_size, val_set_size], generator=torch.Generator().manual_seed(42))\n",
        "\n",
        "# Get the data loader for the train set\n",
        "trainloader = torch.utils.data.DataLoader(trainset, batch_size=batch_size,\n",
        "                                          shuffle=True, num_workers=2)\n",
        "\n",
        "# Get the data loader for the test set\n",
        "valloader = torch.utils.data.DataLoader(valset, batch_size=batch_size,\n",
        "                                          shuffle=True, num_workers=2)\n",
        "\n",
        "# Get the test set\n",
        "testset = torchvision.datasets.MNIST(root='./data', train=False,\n",
        "                                       download=True, transform=transform)\n",
        "\n",
        "# Get the data loader for the test set\n",
        "testloader = torch.utils.data.DataLoader(testset, batch_size=batch_size,\n",
        "                                         shuffle=False, num_workers=2)\n",
        "\n",
        "classes = ('zero', 'one', 'two', 'three',\n",
        "           'four', 'five', 'six', 'seven', 'eight', 'nine')"
      ]
    },
    {
      "cell_type": "code",
      "execution_count": 4,
      "metadata": {
        "id": "NlkjRAIDK1_k",
        "outputId": "f848eaf8-9580-4eff-a6c2-4b5a13e624c9",
        "colab": {
          "base_uri": "https://localhost:8080/",
          "height": 147
        }
      },
      "outputs": [
        {
          "output_type": "display_data",
          "data": {
            "text/plain": [
              "<Figure size 640x480 with 1 Axes>"
            ],
            "image/png": "[encoded data removed]"
          },
          "metadata": {}
        },
        {
          "output_type": "stream",
          "name": "stdout",
          "text": [
            "nine  one   six   five  four  six   one   eight\n"
          ]
        }
      ],
      "source": [
        "# get some random training images\n",
        "dataiter = iter(trainloader)\n",
        "images, labels = next(dataiter)\n",
        "\n",
        "# show images\n",
        "imshow(torchvision.utils.make_grid(images[:8]), stats)\n",
        "# print labels\n",
        "print(' '.join(f'{classes[labels[j]]:5s}' for j in range(8)))"
      ]
    },
    {
      "cell_type": "code",
      "execution_count": 22,
      "metadata": {
        "id": "W9cMbquVK1_k",
        "outputId": "fdce4fee-84bc-4976-de4a-876a62bcb04d",
        "colab": {
          "base_uri": "https://localhost:8080/"
        }
      },
      "outputs": [
        {
          "output_type": "execute_result",
          "data": {
            "text/plain": [
              "Net(\n",
              "  (conv1): Conv2d(1, 32, kernel_size=(3, 3), stride=(1, 1))\n",
              "  (conv2): Conv2d(32, 32, kernel_size=(3, 3), stride=(1, 1))\n",
              "  (conv3): Conv2d(32, 64, kernel_size=(3, 3), stride=(1, 1))\n",
              "  (conv4): Conv2d(64, 64, kernel_size=(3, 3), stride=(1, 1))\n",
              "  (fc1): Linear(in_features=1024, out_features=128, bias=True)\n",
              "  (fc2): Linear(in_features=128, out_features=10, bias=True)\n",
              ")"
            ]
          },
          "metadata": {},
          "execution_count": 22
        }
      ],
      "source": [
        "class Net(nn.Module):\n",
        "    def __init__(self):\n",
        "        super(Net, self).__init__()\n",
        "        # 1 input channel (grayscale), 32 output channels, 3x3 kernel\n",
        "        self.conv1 = nn.Conv2d(1, 32, kernel_size=3)\n",
        "        self.conv2 = nn.Conv2d(32, 32, kernel_size=3)\n",
        "        self.conv3 = nn.Conv2d(32, 64, kernel_size=3)\n",
        "        self.conv4 = nn.Conv2d(64, 64, kernel_size=3)\n",
        "\n",
        "        self.fc1 = nn.Linear(64 * 4 * 4, 128) # Adjust size according to the image size after convolutions\n",
        "        self.fc2 = nn.Linear(128, 10)  # 10 output classes for MNIST\n",
        "\n",
        "    def forward(self, x):\n",
        "        # Convolutional layer + ReLU + MaxPooling\n",
        "        x = F.relu(self.conv1(x))\n",
        "        x = F.max_pool2d(F.relu(self.conv2(x)), 2)\n",
        "        x = F.relu(self.conv3(x))\n",
        "        x = F.max_pool2d(F.relu(self.conv4(x)), 2)\n",
        "\n",
        "        # Flatten the tensor into a 1D vector\n",
        "        x = x.view(x.size(0), -1)\n",
        "        # Fully connected layers\n",
        "        x = F.relu(self.fc1(x))\n",
        "        x = self.fc2(x)  # No softmax needed as we'll apply CrossEntropyLoss\n",
        "        return x\n",
        "\n",
        "\n",
        "net = Net()\n",
        "net.to(device)"
      ]
    },
    {
      "cell_type": "code",
      "source": [],
      "metadata": {
        "id": "Ae9rmNtuL-eS"
      },
      "execution_count": 11,
      "outputs": []
    },
    {
      "cell_type": "code",
      "execution_count": 23,
      "metadata": {
        "id": "JnxxGCPVK1_k"
      },
      "outputs": [],
      "source": [
        "criterion = nn.CrossEntropyLoss() # Loss function\n",
        "optimizer = optim.SGD(net.parameters(), lr=0.001, momentum=0.9) # Optimizer used for training"
      ]
    },
    {
      "cell_type": "code",
      "execution_count": 24,
      "metadata": {
        "id": "p59tNaCxK1_k",
        "outputId": "9c682e10-cc7f-48d4-b9a3-9d1d93223d1f",
        "colab": {
          "base_uri": "https://localhost:8080/"
        }
      },
      "outputs": [
        {
          "output_type": "stream",
          "name": "stdout",
          "text": [
            "1,  train loss: 2.304, val loss: 2.323\n",
            "Saving model\n",
            "2,  train loss: 1.805, val loss: 0.604\n",
            "Saving model\n",
            "3,  train loss: 0.444, val loss: 0.381\n",
            "Saving model\n",
            "4,  train loss: 0.305, val loss: 0.291\n",
            "Saving model\n",
            "5,  train loss: 0.225, val loss: 0.213\n",
            "Saving model\n",
            "6,  train loss: 0.175, val loss: 0.159\n",
            "Saving model\n",
            "7,  train loss: 0.144, val loss: 0.136\n",
            "Saving model\n",
            "8,  train loss: 0.126, val loss: 0.120\n",
            "Saving model\n",
            "9,  train loss: 0.109, val loss: 0.106\n",
            "Saving model\n",
            "10,  train loss: 0.097, val loss: 0.098\n",
            "Saving model\n",
            "11,  train loss: 0.089, val loss: 0.094\n",
            "Saving model\n",
            "12,  train loss: 0.080, val loss: 0.088\n",
            "Saving model\n",
            "13,  train loss: 0.077, val loss: 0.085\n",
            "Saving model\n",
            "14,  train loss: 0.071, val loss: 0.079\n",
            "Saving model\n",
            "15,  train loss: 0.067, val loss: 0.077\n",
            "Saving model\n",
            "16,  train loss: 0.063, val loss: 0.073\n",
            "Saving model\n",
            "17,  train loss: 0.060, val loss: 0.067\n",
            "Saving model\n",
            "18,  train loss: 0.057, val loss: 0.067\n",
            "Saving model\n",
            "19,  train loss: 0.055, val loss: 0.064\n",
            "Saving model\n",
            "20,  train loss: 0.051, val loss: 0.064\n",
            "Saving model\n",
            "Finished Training\n"
          ]
        }
      ],
      "source": [
        "nepochs = 20\n",
        "PATH = './cifar_net.pth' # Path to save the best model\n",
        "\n",
        "best_loss = 1e+20\n",
        "for epoch in range(nepochs):  # loop over the dataset multiple times\n",
        "    # Training Loop\n",
        "    train_loss = 0.0\n",
        "    for i, data in enumerate(trainloader, 0):\n",
        "        # get the inputs; data is a list of [inputs, labels]\n",
        "        inputs, labels = data[0].to(device), data[1].to(device)\n",
        "\n",
        "        # zero the parameter gradients\n",
        "        optimizer.zero_grad()\n",
        "\n",
        "        # forward + backward + optimize\n",
        "        outputs = net(inputs)\n",
        "        loss = criterion(outputs, labels)\n",
        "        loss.backward()\n",
        "        optimizer.step()\n",
        "\n",
        "        train_loss += loss.item()\n",
        "    print(f'{epoch + 1},  train loss: {train_loss / i:.3f},', end = ' ')\n",
        "\n",
        "    val_loss = 0\n",
        "    # since we're not training, we don't need to calculate the gradients for our outputs\n",
        "    with torch.no_grad():\n",
        "        for i, data in enumerate(valloader, 0):\n",
        "            # get the inputs; data is a list of [inputs, labels]\n",
        "            inputs, labels = data[0].to(device), data[1].to(device)\n",
        "\n",
        "            outputs = net(inputs)\n",
        "            loss = criterion(outputs, labels)\n",
        "\n",
        "            val_loss += loss.item()\n",
        "        print(f'val loss: {val_loss / i:.3f}')\n",
        "\n",
        "        # Save best model\n",
        "        if val_loss < best_loss:\n",
        "            print(\"Saving model\")\n",
        "            torch.save(net.state_dict(), PATH)\n",
        "\n",
        "print('Finished Training')"
      ]
    },
    {
      "cell_type": "code",
      "execution_count": 25,
      "metadata": {
        "id": "Z7_73DyQK1_l",
        "outputId": "7bb234ed-208f-4f58-b15d-268325ced03f",
        "colab": {
          "base_uri": "https://localhost:8080/"
        }
      },
      "outputs": [
        {
          "output_type": "stream",
          "name": "stderr",
          "text": [
            "<ipython-input-25-dd9bbc5e22df>:3: FutureWarning: You are using `torch.load` with `weights_only=False` (the current default value), which uses the default pickle module implicitly. It is possible to construct malicious pickle data which will execute arbitrary code during unpickling (See https://github.com/pytorch/pytorch/blob/main/SECURITY.md#untrusted-models for more details). In a future release, the default value for `weights_only` will be flipped to `True`. This limits the functions that could be executed during unpickling. Arbitrary objects will no longer be allowed to be loaded via this mode unless they are explicitly allowlisted by the user via `torch.serialization.add_safe_globals`. We recommend you start setting `weights_only=True` for any use case where you don't have full control of the loaded file. Please open an issue on GitHub for any issues related to this experimental feature.\n",
            "  net.load_state_dict(torch.load(PATH))\n"
          ]
        },
        {
          "output_type": "execute_result",
          "data": {
            "text/plain": [
              "<All keys matched successfully>"
            ]
          },
          "metadata": {},
          "execution_count": 25
        }
      ],
      "source": [
        "# Load the best model to be used in the test set\n",
        "net = Net()\n",
        "net.load_state_dict(torch.load(PATH))"
      ]
    },
    {
      "cell_type": "code",
      "execution_count": 26,
      "metadata": {
        "id": "r2BG7MNGK1_l",
        "outputId": "468f4799-299e-4378-98cf-7e4fcc500a19",
        "colab": {
          "base_uri": "https://localhost:8080/",
          "height": 211
        }
      },
      "outputs": [
        {
          "output_type": "display_data",
          "data": {
            "text/plain": [
              "<Figure size 640x480 with 1 Axes>"
            ],
            "image/png": "[encoded data removed]"
          },
          "metadata": {}
        },
        {
          "output_type": "stream",
          "name": "stdout",
          "text": [
            "GroundTruth:  seven two   one   zero \n"
          ]
        }
      ],
      "source": [
        "dataiter = iter(testloader)\n",
        "images, labels = next(dataiter)\n",
        "\n",
        "\n",
        "# print images\n",
        "imshow(torchvision.utils.make_grid(images[:4]), stats)\n",
        "print('GroundTruth: ', ' '.join(f'{classes[labels[j]]:5s}' for j in range(4)))\n",
        "outputs = net(images)"
      ]
    },
    {
      "cell_type": "code",
      "execution_count": 27,
      "metadata": {
        "id": "EvZjjGrBK1_l",
        "outputId": "78eb868b-de0e-49d7-82e3-a6dc46b2a1a1",
        "colab": {
          "base_uri": "https://localhost:8080/"
        }
      },
      "outputs": [
        {
          "output_type": "stream",
          "name": "stdout",
          "text": [
            "Predicted:  seven two   one   zero \n"
          ]
        }
      ],
      "source": [
        "_, predicted = torch.max(outputs, 1)\n",
        "\n",
        "print('Predicted: ', ' '.join(f'{classes[predicted[j]]:5s}'\n",
        "                              for j in range(4)))"
      ]
    },
    {
      "cell_type": "code",
      "execution_count": 28,
      "metadata": {
        "id": "6F1tozT9K1_l",
        "outputId": "92cef29e-3f85-4162-f16e-82c6da7da37f",
        "colab": {
          "base_uri": "https://localhost:8080/"
        }
      },
      "outputs": [
        {
          "output_type": "stream",
          "name": "stdout",
          "text": [
            "Accuracy of the network on the 10000 test images: 98.19 %\n"
          ]
        }
      ],
      "source": [
        "correct = 0\n",
        "total = 0\n",
        "# since we're not training, we don't need to calculate the gradients for our outputs\n",
        "with torch.no_grad():\n",
        "    for data in testloader:\n",
        "        images, labels = data\n",
        "        # calculate outputs by running images through the network\n",
        "        outputs = net(images)\n",
        "        # the class with the highest energy is what we choose as prediction\n",
        "        _, predicted = torch.max(outputs.data, 1)\n",
        "        total += labels.size(0)\n",
        "        correct += (predicted == labels).sum().item()\n",
        "\n",
        "print(f'Accuracy of the network on the 10000 test images: {100 * correct / total} %')"
      ]
    },
    {
      "cell_type": "code",
      "execution_count": 29,
      "metadata": {
        "id": "NgPyKtviK1_l",
        "outputId": "a7aa2293-4df3-4d2b-fd7a-b006eb307d55",
        "colab": {
          "base_uri": "https://localhost:8080/"
        }
      },
      "outputs": [
        {
          "output_type": "stream",
          "name": "stdout",
          "text": [
            "Accuracy for class: zero  is 98.6 %\n",
            "Accuracy for class: one   is 98.8 %\n",
            "Accuracy for class: two   is 97.8 %\n",
            "Accuracy for class: three is 98.2 %\n",
            "Accuracy for class: four  is 98.2 %\n",
            "Accuracy for class: five  is 97.2 %\n",
            "Accuracy for class: six   is 99.1 %\n",
            "Accuracy for class: seven is 98.5 %\n",
            "Accuracy for class: eight is 98.8 %\n",
            "Accuracy for class: nine  is 96.7 %\n"
          ]
        }
      ],
      "source": [
        "# prepare to count predictions for each class\n",
        "correct_pred = {classname: 0 for classname in classes}\n",
        "total_pred = {classname: 0 for classname in classes}\n",
        "\n",
        "# again no gradients needed\n",
        "with torch.no_grad():\n",
        "    for data in testloader:\n",
        "        images, labels = data\n",
        "        outputs = net(images)\n",
        "        _, predictions = torch.max(outputs, 1)\n",
        "        # collect the correct predictions for each class\n",
        "        for label, prediction in zip(labels, predictions):\n",
        "            if label == prediction:\n",
        "                correct_pred[classes[label]] += 1\n",
        "            total_pred[classes[label]] += 1\n",
        "\n",
        "\n",
        "# print accuracy for each class\n",
        "for classname, correct_count in correct_pred.items():\n",
        "    accuracy = 100 * float(correct_count) / total_pred[classname]\n",
        "    print(f'Accuracy for class: {classname:5s} is {accuracy:.1f} %')"
      ]
    }
  ],
  "metadata": {
    "kernelspec": {
      "display_name": "Python 3",
      "name": "python3"
    },
    "language_info": {
      "codemirror_mode": {
        "name": "ipython",
        "version": 3
      },
      "file_extension": ".py",
      "mimetype": "text/x-python",
      "name": "python",
      "nbconvert_exporter": "python",
      "pygments_lexer": "ipython3",
      "version": "3.9.12"
    },
    "orig_nbformat": 4,
    "vscode": {
      "interpreter": {
        "hash": "249d11310564531dbb0422c65726fbafe5d71a3f15733fe196d56460bed7c227"
      }
    },
    "colab": {
      "provenance": [],
      "gpuType": "T4"
    },
    "accelerator": "GPU"
  },
  "nbformat": 4,
  "nbformat_minor": 0
}